{
  "cells": [
    {
      "cell_type": "markdown",
      "metadata": {
        "id": "view-in-github",
        "colab_type": "text"
      },
      "source": [
        "<a href=\"https://colab.research.google.com/github/zainabhameed24/Advance_tasks_of_Internship-Develoer-Hub-Corporation/blob/main/Internship_Task_2.1.ipynb\" target=\"_parent\"><img src=\"https://colab.research.google.com/assets/colab-badge.svg\" alt=\"Open In Colab\"/></a>"
      ]
    },
    {
      "cell_type": "markdown",
      "source": [
        "# **Task 1: Term Deposit Subscription Prediction (Bank Marketing)**\n",
        "**Objective:**\n",
        "Predict whether a bank customer will subscribe to a term deposit as a result of a marketing\n",
        "campaign.\n",
        "\n",
        "**Dataset:**\n",
        "Bank Marketing Dataset (UCI Machine Learning Repository)"
      ],
      "metadata": {
        "id": "kXPNbpeltW9W"
      }
    },
    {
      "cell_type": "markdown",
      "source": [
        "**Load and explore the dataset**\n",
        "\n",
        "\n"
      ],
      "metadata": {
        "id": "a1DrPtYvtjC_"
      }
    },
    {
      "cell_type": "code",
      "execution_count": 13,
      "metadata": {
        "colab": {
          "base_uri": "https://localhost:8080/"
        },
        "id": "Y3HRM_8X4KYw",
        "outputId": "cf45a4c2-90ad-4692-bec0-8a9682bdb278"
      },
      "outputs": [
        {
          "output_type": "stream",
          "name": "stdout",
          "text": [
            "   age         job  marital  education default  balance housing loan  contact  \\\n",
            "0   59      admin.  married  secondary      no     2343     yes   no  unknown   \n",
            "1   56      admin.  married  secondary      no       45      no   no  unknown   \n",
            "2   41  technician  married  secondary      no     1270     yes   no  unknown   \n",
            "\n",
            "   day month  duration  campaign  pdays  previous poutcome deposit  \n",
            "0    5   may      1042         1     -1         0  unknown     yes  \n",
            "1    5   may      1467         1     -1         0  unknown     yes  \n",
            "2    5   may      1389         1     -1         0  unknown     yes  \n"
          ]
        }
      ],
      "source": [
        "import pandas as pd\n",
        "import numpy as np\n",
        "df=pd.read_csv(\"/content/bank.csv\")\n",
        "print(df.head(3))"
      ]
    },
    {
      "cell_type": "code",
      "execution_count": null,
      "metadata": {
        "colab": {
          "base_uri": "https://localhost:8080/"
        },
        "id": "KHhH19I55AQy",
        "outputId": "5ddfe628-6b58-4da5-d27d-2ccf7e2a0628"
      },
      "outputs": [
        {
          "output_type": "stream",
          "name": "stdout",
          "text": [
            "Shape of dataset: (11162, 17)\n",
            "\n",
            "Column names:\n",
            " Index(['age', 'job', 'marital', 'education', 'default', 'balance', 'housing',\n",
            "       'loan', 'contact', 'day', 'month', 'duration', 'campaign', 'pdays',\n",
            "       'previous', 'poutcome', 'deposit'],\n",
            "      dtype='object')\n",
            "\n",
            "Data types:\n",
            " age           int64\n",
            "job          object\n",
            "marital      object\n",
            "education    object\n",
            "default      object\n",
            "balance       int64\n",
            "housing      object\n",
            "loan         object\n",
            "contact      object\n",
            "day           int64\n",
            "month        object\n",
            "duration      int64\n",
            "campaign      int64\n",
            "pdays         int64\n",
            "previous      int64\n",
            "poutcome     object\n",
            "deposit      object\n",
            "dtype: object\n",
            "\n",
            "Missing values:\n",
            " age          0\n",
            "job          0\n",
            "marital      0\n",
            "education    0\n",
            "default      0\n",
            "balance      0\n",
            "housing      0\n",
            "loan         0\n",
            "contact      0\n",
            "day          0\n",
            "month        0\n",
            "duration     0\n",
            "campaign     0\n",
            "pdays        0\n",
            "previous     0\n",
            "poutcome     0\n",
            "deposit      0\n",
            "dtype: int64\n"
          ]
        }
      ],
      "source": [
        "print(\"Shape of dataset:\", df.shape)\n",
        "print(\"\\nColumn names:\\n\", df.columns)\n",
        "print(\"\\nData types:\\n\", df.dtypes)\n",
        "print(\"\\nMissing values:\\n\", df.isnull().sum())\n"
      ]
    },
    {
      "cell_type": "code",
      "execution_count": null,
      "metadata": {
        "colab": {
          "base_uri": "https://localhost:8080/"
        },
        "id": "b3GhWlgW5kPd",
        "outputId": "27390bc4-5c19-4d3e-9425-440da0528d32"
      },
      "outputs": [
        {
          "output_type": "stream",
          "name": "stdout",
          "text": [
            "                age       balance           day      duration      campaign  \\\n",
            "count  11162.000000  11162.000000  11162.000000  11162.000000  11162.000000   \n",
            "mean      41.231948   1528.538524     15.658036    371.993818      2.508421   \n",
            "std       11.913369   3225.413326      8.420740    347.128386      2.722077   \n",
            "min       18.000000  -6847.000000      1.000000      2.000000      1.000000   \n",
            "25%       32.000000    122.000000      8.000000    138.000000      1.000000   \n",
            "50%       39.000000    550.000000     15.000000    255.000000      2.000000   \n",
            "75%       49.000000   1708.000000     22.000000    496.000000      3.000000   \n",
            "max       95.000000  81204.000000     31.000000   3881.000000     63.000000   \n",
            "\n",
            "              pdays      previous  \n",
            "count  11162.000000  11162.000000  \n",
            "mean      51.330407      0.832557  \n",
            "std      108.758282      2.292007  \n",
            "min       -1.000000      0.000000  \n",
            "25%       -1.000000      0.000000  \n",
            "50%       -1.000000      0.000000  \n",
            "75%       20.750000      1.000000  \n",
            "max      854.000000     58.000000  \n"
          ]
        }
      ],
      "source": [
        "print(df.describe())"
      ]
    },
    {
      "cell_type": "markdown",
      "source": [
        "**● Encode all categorical features properly**"
      ],
      "metadata": {
        "id": "a9KPtS5ltr5A"
      }
    },
    {
      "cell_type": "code",
      "execution_count": 14,
      "metadata": {
        "colab": {
          "base_uri": "https://localhost:8080/"
        },
        "id": "OQGf0Kp78jA9",
        "outputId": "3fe653d3-4380-4f57-fc8c-592990b4d984"
      },
      "outputs": [
        {
          "output_type": "stream",
          "name": "stdout",
          "text": [
            "Categorical columns: ['job', 'marital', 'education', 'default', 'housing', 'loan', 'contact', 'month', 'poutcome']\n",
            "Numeric columns: ['age', 'balance', 'day', 'duration', 'campaign', 'pdays', 'previous']\n",
            "Encoded training shape: (8929, 42)\n",
            "Sample encoded columns:\n",
            "       cat__job_blue-collar  cat__job_entrepreneur  cat__job_housemaid  \\\n",
            "8644                   0.0                    0.0                 0.0   \n",
            "2632                   0.0                    0.0                 0.0   \n",
            "3056                   0.0                    0.0                 0.0   \n",
            "1080                   0.0                    0.0                 0.0   \n",
            "4006                   1.0                    0.0                 0.0   \n",
            "\n",
            "      cat__job_management  cat__job_retired  cat__job_self-employed  \\\n",
            "8644                  0.0               0.0                     0.0   \n",
            "2632                  0.0               0.0                     0.0   \n",
            "3056                  0.0               0.0                     0.0   \n",
            "1080                  0.0               0.0                     0.0   \n",
            "4006                  0.0               0.0                     0.0   \n",
            "\n",
            "      cat__job_services  cat__job_student  cat__job_technician  \\\n",
            "8644                0.0               0.0                  0.0   \n",
            "2632                0.0               0.0                  0.0   \n",
            "3056                0.0               0.0                  1.0   \n",
            "1080                0.0               0.0                  1.0   \n",
            "4006                0.0               0.0                  0.0   \n",
            "\n",
            "      cat__job_unemployed  ...  cat__poutcome_other  cat__poutcome_success  \\\n",
            "8644                  0.0  ...                  0.0                    0.0   \n",
            "2632                  0.0  ...                  0.0                    1.0   \n",
            "3056                  0.0  ...                  0.0                    1.0   \n",
            "1080                  0.0  ...                  0.0                    0.0   \n",
            "4006                  0.0  ...                  0.0                    0.0   \n",
            "\n",
            "      cat__poutcome_unknown  num__age  num__balance  num__day  num__duration  \\\n",
            "8644                    1.0      46.0         526.0      31.0          251.0   \n",
            "2632                    0.0      46.0        2552.0       3.0          260.0   \n",
            "3056                    0.0      25.0         139.0      11.0          202.0   \n",
            "1080                    1.0      43.0        3288.0      21.0          775.0   \n",
            "4006                    1.0      37.0         217.0      23.0          272.0   \n",
            "\n",
            "      num__campaign  num__pdays  num__previous  \n",
            "8644            3.0        -1.0            0.0  \n",
            "2632            1.0        94.0            8.0  \n",
            "3056            1.0        91.0            1.0  \n",
            "1080            3.0        -1.0            0.0  \n",
            "4006            2.0        -1.0            0.0  \n",
            "\n",
            "[5 rows x 42 columns]\n"
          ]
        }
      ],
      "source": [
        "from sklearn.model_selection import train_test_split\n",
        "from sklearn.preprocessing import OneHotEncoder\n",
        "from sklearn.compose import ColumnTransformer\n",
        "\n",
        "X = df.drop('deposit', axis=1)\n",
        "y = df['deposit']\n",
        "#---------------------Identify categorical & numerical columns---------------\n",
        "categorical_cols = X.select_dtypes(include=[\"object\", \"category\"]).columns.tolist()\n",
        "numeric_cols = X.select_dtypes(include=[\"int64\", \"float64\"]).columns.tolist()\n",
        "\n",
        "print(\"Categorical columns:\", categorical_cols)\n",
        "print(\"Numeric columns:\", numeric_cols)\n",
        "\n",
        "# ------------------ ONE-HOT ENCODING ------------------\n",
        "preprocessor = ColumnTransformer(\n",
        "    transformers=[\n",
        "        (\"cat\", OneHotEncoder(drop=\"first\", handle_unknown=\"ignore\", sparse_output=False), categorical_cols),\n",
        "        (\"num\", \"passthrough\", numeric_cols)\n",
        "    ]\n",
        ")\n",
        "# ------------------ TRAIN-TEST SPLIT ------------------\n",
        "X_train, X_test, y_train, y_test = train_test_split(\n",
        "    X, y, test_size=0.2, random_state=42, stratify=y\n",
        ")\n",
        "\n",
        "# Fit the preprocessor on training set\n",
        "X_train_enc = preprocessor.fit_transform(X_train)\n",
        "X_test_enc = preprocessor.transform(X_test)\n",
        "\n",
        "# Get feature names after encoding\n",
        "feature_names = preprocessor.get_feature_names_out()\n",
        "\n",
        "# Convert back to DataFrame for inspection\n",
        "X_train_enc = pd.DataFrame(X_train_enc, columns=feature_names, index=X_train.index)\n",
        "X_test_enc = pd.DataFrame(X_test_enc, columns=feature_names, index=X_test.index)\n",
        "\n",
        "print(\"Encoded training shape:\", X_train_enc.shape)\n",
        "print(\"Sample encoded columns:\\n\", X_train_enc.head())"
      ]
    },
    {
      "cell_type": "markdown",
      "source": [
        "**Train classification models (e.g., Logistic Regression, Random Forest)**"
      ],
      "metadata": {
        "id": "_U8HlFqotyLF"
      }
    },
    {
      "cell_type": "markdown",
      "source": [
        "**● Evaluate the models using Confusion Matrix, F1-Score, and ROC Curve**"
      ],
      "metadata": {
        "id": "craCFtbxvyB-"
      }
    },
    {
      "cell_type": "code",
      "execution_count": 17,
      "metadata": {
        "id": "R4pyyz1vB01u",
        "colab": {
          "base_uri": "https://localhost:8080/",
          "height": 1000
        },
        "outputId": "c9742f84-a300-4185-b7f5-ed0f897fc538"
      },
      "outputs": [
        {
          "output_type": "stream",
          "name": "stderr",
          "text": [
            "/usr/local/lib/python3.12/dist-packages/sklearn/linear_model/_logistic.py:465: ConvergenceWarning: lbfgs failed to converge (status=1):\n",
            "STOP: TOTAL NO. OF ITERATIONS REACHED LIMIT.\n",
            "\n",
            "Increase the number of iterations (max_iter) or scale the data as shown in:\n",
            "    https://scikit-learn.org/stable/modules/preprocessing.html\n",
            "Please also refer to the documentation for alternative solver options:\n",
            "    https://scikit-learn.org/stable/modules/linear_model.html#logistic-regression\n",
            "  n_iter_i = _check_optimize_result(\n"
          ]
        },
        {
          "output_type": "stream",
          "name": "stdout",
          "text": [
            "---- Logistic Regression ----\n",
            "Confusion Matrix:\n",
            " [[987 188]\n",
            " [202 856]]\n",
            "\n",
            "Classification Report:\n",
            "               precision    recall  f1-score   support\n",
            "\n",
            "          no       0.83      0.84      0.84      1175\n",
            "         yes       0.82      0.81      0.81      1058\n",
            "\n",
            "    accuracy                           0.83      2233\n",
            "   macro avg       0.83      0.82      0.82      2233\n",
            "weighted avg       0.83      0.83      0.83      2233\n",
            "\n",
            "---- Random Forest ----\n",
            "Confusion Matrix:\n",
            " [[976 199]\n",
            " [119 939]]\n",
            "\n",
            "Classification Report:\n",
            "               precision    recall  f1-score   support\n",
            "\n",
            "          no       0.89      0.83      0.86      1175\n",
            "         yes       0.83      0.89      0.86      1058\n",
            "\n",
            "    accuracy                           0.86      2233\n",
            "   macro avg       0.86      0.86      0.86      2233\n",
            "weighted avg       0.86      0.86      0.86      2233\n",
            "\n"
          ]
        },
        {
          "output_type": "display_data",
          "data": {
            "text/plain": [
              "<Figure size 600x400 with 1 Axes>"
            ],
            "image/png": "[encoded data removed]"
          },
          "metadata": {}
        }
      ],
      "source": [
        "# ------------------ IMPORTS ------------------\n",
        "from sklearn.linear_model import LogisticRegression\n",
        "from sklearn.ensemble import RandomForestClassifier\n",
        "from sklearn.metrics import classification_report, confusion_matrix, roc_curve, auc\n",
        "import matplotlib.pyplot as plt\n",
        "\n",
        "# ------------------ LOGISTIC REGRESSION ------------------\n",
        "log_reg = LogisticRegression(max_iter=1000, random_state=42)\n",
        "log_reg.fit(X_train_enc, y_train)\n",
        "\n",
        "# Predictions\n",
        "y_pred_lr = log_reg.predict(X_test_enc)\n",
        "\n",
        "print(\"---- Logistic Regression ----\")\n",
        "print(\"Confusion Matrix:\\n\", confusion_matrix(y_test, y_pred_lr))\n",
        "print(\"\\nClassification Report:\\n\", classification_report(y_test, y_pred_lr))\n",
        "\n",
        "# ------------------ RANDOM FOREST ------------------\n",
        "rf = RandomForestClassifier(n_estimators=100, random_state=42)\n",
        "rf.fit(X_train_enc, y_train)\n",
        "\n",
        "# Predictions\n",
        "y_pred_rf = rf.predict(X_test_enc)\n",
        "\n",
        "print(\"---- Random Forest ----\")\n",
        "print(\"Confusion Matrix:\\n\", confusion_matrix(y_test, y_pred_rf))\n",
        "print(\"\\nClassification Report:\\n\", classification_report(y_test, y_pred_rf))\n",
        "\n",
        "# ------------------ ROC CURVE ------------------\n",
        "y_prob_lr = log_reg.predict_proba(X_test_enc)[:,1]\n",
        "y_prob_rf = rf.predict_proba(X_test_enc)[:,1]\n",
        "\n",
        "fpr_lr, tpr_lr, _ = roc_curve(y_test, y_prob_lr, pos_label=\"yes\")\n",
        "fpr_rf, tpr_rf, _ = roc_curve(y_test, y_prob_rf, pos_label=\"yes\")\n",
        "\n",
        "auc_lr = auc(fpr_lr, tpr_lr)\n",
        "auc_rf = auc(fpr_rf, tpr_rf)\n",
        "\n",
        "plt.figure(figsize=(6,4))\n",
        "plt.plot(fpr_lr, tpr_lr, label=f\"Logistic Regression (AUC={auc_lr:.2f})\")\n",
        "plt.plot(fpr_rf, tpr_rf, label=f\"Random Forest (AUC={auc_rf:.2f})\")\n",
        "plt.plot([0,1],[0,1],'--',color='gray')\n",
        "plt.xlabel(\"False Positive Rate\")\n",
        "plt.ylabel(\"True Positive Rate\")\n",
        "plt.title(\"ROC Curve\")\n",
        "plt.legend()\n",
        "plt.show()\n"
      ]
    }
  ],
  "metadata": {
    "colab": {
      "provenance": [],
      "authorship_tag": "ABX9TyPCRfJyQub1+CEE7UqfFyMR",
      "include_colab_link": true
    },
    "kernelspec": {
      "display_name": "Python 3",
      "name": "python3"
    },
    "language_info": {
      "name": "python"
    }
  },
  "nbformat": 4,
  "nbformat_minor": 0
}